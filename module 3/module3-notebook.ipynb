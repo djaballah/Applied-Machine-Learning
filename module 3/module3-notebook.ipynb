{
 "cells": [
  {
   "cell_type": "markdown",
   "metadata": {},
   "source": [
    "# Applied Machine Learning: Module 3 (evaluation)"
   ]
  },
  {
   "cell_type": "markdown",
   "metadata": {},
   "source": [
    "## Evaluation for classification"
   ]
  },
  {
   "cell_type": "markdown",
   "metadata": {},
   "source": [
    "### Preamble"
   ]
  },
  {
   "cell_type": "code",
   "execution_count": 1,
   "metadata": {},
   "outputs": [
    {
     "name": "stdout",
     "output_type": "stream",
     "text": [
      "0 178\n",
      "1 182\n",
      "2 177\n",
      "3 183\n",
      "4 181\n",
      "5 182\n",
      "6 181\n",
      "7 179\n",
      "8 174\n",
      "9 180\n"
     ]
    }
   ],
   "source": [
    "%matplotlib inline\n",
    "\n",
    "import numpy as np\n",
    "import pandas as pd\n",
    "import seaborn as sns\n",
    "import matplotlib.pyplot as plt\n",
    "from sklearn.model_selection import train_test_split\n",
    "from sklearn.datasets import load_digits\n",
    "\n",
    "dataset = load_digits()\n",
    "\n",
    "X, y = dataset.data, dataset.target\n",
    "\n",
    "for class_name, class_count in zip(dataset.target_names, np.bincount(dataset.target)):\n",
    "    print(class_name, class_count)"
   ]
  },
  {
   "cell_type": "code",
   "execution_count": 2,
   "metadata": {},
   "outputs": [
    {
     "name": "stdout",
     "output_type": "stream",
     "text": [
      "Original labels :\t [1 2 3 4 5 6 7 8 9 0 1 2 3 4 5 6 7 8 9 0 1 2 3 4 5 6 7 8 9]\n",
      "New binary labels:\t [1 0 0 0 0 0 0 0 0 0 1 0 0 0 0 0 0 0 0 0 1 0 0 0 0 0 0 0 0]\n"
     ]
    }
   ],
   "source": [
    "# Creating a dataset with imbalanced binary classes\n",
    "# Negatice class (0) is 'not digit 1'\n",
    "# Positive class (1) is 'digit 1'\n",
    "\n",
    "y_binary_imbalanced = y.copy()\n",
    "y_binary_imbalanced[y_binary_imbalanced != 1] = 0\n",
    "\n",
    "print('Original labels :\\t', y[1:30])\n",
    "print('New binary labels:\\t', y_binary_imbalanced[1:30])"
   ]
  },
  {
   "cell_type": "code",
   "execution_count": 3,
   "metadata": {},
   "outputs": [
    {
     "data": {
      "text/plain": [
       "array([1615,  182])"
      ]
     },
     "execution_count": 3,
     "metadata": {},
     "output_type": "execute_result"
    }
   ],
   "source": [
    "np.bincount(y_binary_imbalanced)"
   ]
  },
  {
   "cell_type": "code",
   "execution_count": 4,
   "metadata": {},
   "outputs": [
    {
     "data": {
      "text/plain": [
       "0.9088888888888889"
      ]
     },
     "execution_count": 4,
     "metadata": {},
     "output_type": "execute_result"
    }
   ],
   "source": [
    "X_train, X_test, y_train, y_test = train_test_split(X, y_binary_imbalanced, random_state=0)\n",
    "\n",
    "from sklearn.svm import SVC\n",
    "\n",
    "clf = SVC(kernel='rbf', C=1)\n",
    "clf.fit(X_train, y_train)\n",
    "clf.score(X_test, y_test)"
   ]
  },
  {
   "cell_type": "markdown",
   "metadata": {},
   "source": [
    "### Dummy classifiers "
   ]
  },
  {
   "cell_type": "markdown",
   "metadata": {},
   "source": [
    "DummyClassifier is a classifier that make predictions using simple rules, which can be useful as a baseline for comparaison against actual classifiers especially with imbalanced classes "
   ]
  },
  {
   "cell_type": "code",
   "execution_count": 5,
   "metadata": {},
   "outputs": [
    {
     "data": {
      "text/plain": [
       "array([0, 0, 0, ..., 0, 0, 0])"
      ]
     },
     "execution_count": 5,
     "metadata": {},
     "output_type": "execute_result"
    }
   ],
   "source": [
    "from sklearn.dummy import DummyClassifier\n",
    "\n",
    "# Negative class (0) is the most frequent\n",
    "dummy_majority = DummyClassifier(strategy='most_frequent')\n",
    "dummy_majority.fit(X_train, y_train)\n",
    "\n",
    "y_dummy_prediction = dummy_majority.predict(X_train)\n",
    "y_dummy_prediction"
   ]
  },
  {
   "cell_type": "code",
   "execution_count": 6,
   "metadata": {},
   "outputs": [
    {
     "data": {
      "text/plain": [
       "0.9044444444444445"
      ]
     },
     "execution_count": 6,
     "metadata": {},
     "output_type": "execute_result"
    }
   ],
   "source": [
    "dummy_majority.score(X_test, y_test)"
   ]
  },
  {
   "cell_type": "code",
   "execution_count": 7,
   "metadata": {},
   "outputs": [
    {
     "data": {
      "text/plain": [
       "0.9777777777777777"
      ]
     },
     "execution_count": 7,
     "metadata": {},
     "output_type": "execute_result"
    }
   ],
   "source": [
    "svm = SVC(kernel='linear', C=1)\n",
    "svm.fit(X_train, y_train)\n",
    "svm.score(X_test, y_test)"
   ]
  },
  {
   "cell_type": "markdown",
   "metadata": {},
   "source": [
    "### Confusion matrices"
   ]
  },
  {
   "cell_type": "markdown",
   "metadata": {},
   "source": [
    "#### Binary (two-class) confusion matrix"
   ]
  },
  {
   "cell_type": "code",
   "execution_count": 8,
   "metadata": {},
   "outputs": [
    {
     "name": "stdout",
     "output_type": "stream",
     "text": [
      "Most frequent class (dummy classifier)\n",
      " [[407   0]\n",
      " [ 43   0]]\n"
     ]
    }
   ],
   "source": [
    "from sklearn.metrics import confusion_matrix\n",
    "\n",
    "# Negative class 0 is most frequent\n",
    "dummy_majority = DummyClassifier(strategy='most_frequent').fit(X_train, y_train)\n",
    "y_majority_predicted = dummy_majority.predict(X_test)\n",
    "confusion = confusion_matrix(y_test, y_majority_predicted)\n",
    "\n",
    "print('Most frequent class (dummy classifier)\\n', confusion)"
   ]
  },
  {
   "cell_type": "code",
   "execution_count": 9,
   "metadata": {},
   "outputs": [
    {
     "name": "stdout",
     "output_type": "stream",
     "text": [
      "Random class-proportional prediction (dummy classifier)\n",
      " [[372  35]\n",
      " [ 34   9]]\n"
     ]
    }
   ],
   "source": [
    "\n",
    "dummy_classpro = DummyClassifier(strategy='stratified').fit(X_train, y_train)\n",
    "y_classpro_predicted = dummy_classpro.predict(X_test)\n",
    "confusion = confusion_matrix(y_test, y_classpro_predicted)\n",
    "\n",
    "print('Random class-proportional prediction (dummy classifier)\\n', confusion)"
   ]
  },
  {
   "cell_type": "code",
   "execution_count": 10,
   "metadata": {},
   "outputs": [
    {
     "name": "stdout",
     "output_type": "stream",
     "text": [
      "SVM prediciton (Linear kernel, C= 1)\n",
      " [[407   0]\n",
      " [ 41   2]]\n"
     ]
    }
   ],
   "source": [
    "svm = SVC(kernel='rbf', C=1).fit(X_train, y_train)\n",
    "svm_prediction = svm.predict(X_test)\n",
    "confusion = confusion_matrix(y_test, svm_prediction)\n",
    "\n",
    "print('SVM prediciton (Linear kernel, C= 1)\\n', confusion)"
   ]
  },
  {
   "cell_type": "code",
   "execution_count": 11,
   "metadata": {},
   "outputs": [
    {
     "name": "stdout",
     "output_type": "stream",
     "text": [
      "Logistic regression classifier (default settings)\n",
      " [[401   6]\n",
      " [  6  37]]\n"
     ]
    }
   ],
   "source": [
    "from sklearn.linear_model import LogisticRegression\n",
    "\n",
    "clf = LogisticRegression().fit(X_train, y_train)\n",
    "y_logistic_prediction = clf.predict(X_test)\n",
    "confusion = confusion_matrix(y_test, y_logistic_prediction)\n",
    "\n",
    "print('Logistic regression classifier (default settings)\\n', confusion)"
   ]
  },
  {
   "cell_type": "code",
   "execution_count": 12,
   "metadata": {},
   "outputs": [
    {
     "name": "stdout",
     "output_type": "stream",
     "text": [
      "Decision tree classifier (max_depth = 2)\n",
      " [[400   7]\n",
      " [ 17  26]]\n"
     ]
    }
   ],
   "source": [
    "from sklearn.tree import DecisionTreeClassifier\n",
    "\n",
    "tree_clf = DecisionTreeClassifier(max_depth=2).fit(X_train, y_train)\n",
    "tree_predicitions = tree_clf.predict(X_test)\n",
    "confusion = confusion_matrix(y_test, tree_predicitions)\n",
    "\n",
    "print('Decision tree classifier (max_depth = 2)\\n', confusion)"
   ]
  },
  {
   "cell_type": "markdown",
   "metadata": {},
   "source": [
    "## Evaluation metrics for binary classification"
   ]
  },
  {
   "cell_type": "code",
   "execution_count": 13,
   "metadata": {},
   "outputs": [
    {
     "name": "stdout",
     "output_type": "stream",
     "text": [
      "Accuracy: 0.95\n",
      "Precision: 0.79\n",
      "Recall: 0.60\n",
      "F1_Score: 0.68\n"
     ]
    }
   ],
   "source": [
    "from sklearn.metrics import accuracy_score, precision_score, recall_score, f1_score\n",
    "# Accuracy = (TP + TN) / (TP + FP + TN + FN)\n",
    "# Precision = TP / (TP + FP)\n",
    "# Recall = TP / (TP + FN)\n",
    "# F1_score  = 2 * Precision * Recall / (Precision + Recall)\n",
    "\n",
    "print('Accuracy: {:.2f}'.format(accuracy_score(y_test, tree_predicitions)))\n",
    "print('Precision: {:.2f}'.format(precision_score(y_test, tree_predicitions)))\n",
    "print('Recall: {:.2f}'.format(recall_score(y_test, tree_predicitions)))\n",
    "print('F1_Score: {:.2f}'.format(f1_score(y_test, tree_predicitions)))"
   ]
  },
  {
   "cell_type": "code",
   "execution_count": 14,
   "metadata": {},
   "outputs": [
    {
     "name": "stdout",
     "output_type": "stream",
     "text": [
      "             precision    recall  f1-score   support\n",
      "\n",
      "      not 1       0.96      0.98      0.97       407\n",
      "          1       0.79      0.60      0.68        43\n",
      "\n",
      "avg / total       0.94      0.95      0.94       450\n",
      "\n"
     ]
    }
   ],
   "source": [
    "# Combined report with all above metrics\n",
    "from sklearn.metrics import classification_report\n",
    "print(classification_report(y_test, tree_predicitions, target_names=['not 1', '1']))"
   ]
  },
  {
   "cell_type": "code",
   "execution_count": 15,
   "metadata": {},
   "outputs": [
    {
     "name": "stdout",
     "output_type": "stream",
     "text": [
      "Random class-proportional (dummy) \n",
      "              precision    recall  f1-score   support\n",
      "\n",
      "      not 1       0.92      0.91      0.92       407\n",
      "          1       0.20      0.21      0.21        43\n",
      "\n",
      "avg / total       0.85      0.85      0.85       450\n",
      "\n",
      "SVM \n",
      "              precision    recall  f1-score   support\n",
      "\n",
      "      not 1       0.91      1.00      0.95       407\n",
      "          1       1.00      0.05      0.09        43\n",
      "\n",
      "avg / total       0.92      0.91      0.87       450\n",
      "\n",
      "Logistic Regression \n",
      "              precision    recall  f1-score   support\n",
      "\n",
      "      not 1       0.99      0.99      0.99       407\n",
      "          1       0.86      0.86      0.86        43\n",
      "\n",
      "avg / total       0.97      0.97      0.97       450\n",
      "\n",
      "Decision tree \n",
      "              precision    recall  f1-score   support\n",
      "\n",
      "      not 1       0.96      0.98      0.97       407\n",
      "          1       0.79      0.60      0.68        43\n",
      "\n",
      "avg / total       0.94      0.95      0.94       450\n",
      "\n"
     ]
    }
   ],
   "source": [
    "print('Random class-proportional (dummy) \\n',\n",
    "     classification_report(y_test, y_classpro_predicted, target_names=['not 1', '1']))\n",
    "\n",
    "print('SVM \\n',\n",
    "     classification_report(y_test, svm_prediction, target_names=['not 1', '1']))\n",
    "\n",
    "print('Logistic Regression \\n',\n",
    "     classification_report(y_test, y_logistic_prediction, target_names=['not 1', '1']))\n",
    "\n",
    "print('Decision tree \\n',\n",
    "     classification_report(y_test, tree_predicitions, target_names=['not 1', '1']))"
   ]
  },
  {
   "cell_type": "markdown",
   "metadata": {},
   "source": [
    "## Decision function"
   ]
  },
  {
   "cell_type": "code",
   "execution_count": 22,
   "metadata": {},
   "outputs": [
    {
     "data": {
      "text/plain": [
       "[(0, -23.172292973469546),\n",
       " (0, -13.542576515500063),\n",
       " (0, -21.717588760007867),\n",
       " (0, -18.90306513331644),\n",
       " (0, -19.733169947138638),\n",
       " (0, -9.746321749674767),\n",
       " (1, 5.2327155658831135),\n",
       " (0, -19.308012306288916),\n",
       " (0, -25.099330209728528),\n",
       " (0, -21.824312362996),\n",
       " (0, -24.14378275072049),\n",
       " (0, -19.578811099762508),\n",
       " (0, -22.5683713932802),\n",
       " (0, -10.822590225240777),\n",
       " (0, -11.907918741521932),\n",
       " (0, -10.977026853802803),\n",
       " (1, 11.206811164226373),\n",
       " (0, -27.64415761980748),\n",
       " (0, -12.857692102545409),\n",
       " (0, -25.8481491402402)]"
      ]
     },
     "execution_count": 22,
     "metadata": {},
     "output_type": "execute_result"
    }
   ],
   "source": [
    "X_train, X_test, y_train, y_test = train_test_split(X, y_binary_imbalanced, random_state=0)\n",
    "\n",
    "lr_clf = LogisticRegression().fit(X_train, y_train)\n",
    "y_scores_lr = lr_clf.decision_function(X_test)\n",
    "\n",
    "y_score_list = list(zip(y_test[0:20], y_scores_lr[0:20]))\n",
    "y_score_list"
   ]
  },
  {
   "cell_type": "code",
   "execution_count": 24,
   "metadata": {},
   "outputs": [
    {
     "data": {
      "text/plain": [
       "[(0, 8.637757922060678e-11),\n",
       " (0, 1.3138118599563783e-06),\n",
       " (0, 3.699738603909953e-10),\n",
       " (0, 6.1730972504865465e-09),\n",
       " (0, 2.6914925394345074e-09),\n",
       " (0, 5.850605777114361e-05),\n",
       " (1, 0.9946893464440469),\n",
       " (0, 4.1175302368500096e-09),\n",
       " (0, 1.257475089425303e-11),\n",
       " (0, 3.325229075466887e-10),\n",
       " (0, 3.2695529799373086e-11),\n",
       " (0, 3.1407283576084884e-09),\n",
       " (0, 1.580086411715015e-10),\n",
       " (0, 1.9943442430612578e-05),\n",
       " (0, 6.7368003023860014e-06),\n",
       " (0, 1.7089540581641637e-05),\n",
       " (1, 0.9999864188091131),\n",
       " (0, 9.869494034019548e-13),\n",
       " (0, 2.6059983600823893e-06),\n",
       " (0, 5.9469113009063784e-12)]"
      ]
     },
     "execution_count": 24,
     "metadata": {},
     "output_type": "execute_result"
    }
   ],
   "source": [
    "y_proba_lr = lr_clf.predict_proba(X_test)\n",
    "y_proba_list = list(zip(y_test[0:20], y_proba_lr[0:20, 1]))\n",
    "\n",
    "y_proba_list"
   ]
  },
  {
   "cell_type": "markdown",
   "metadata": {},
   "source": [
    "# Precision recall curve"
   ]
  },
  {
   "cell_type": "code",
   "execution_count": 26,
   "metadata": {},
   "outputs": [
    {
     "name": "stderr",
     "output_type": "stream",
     "text": [
      "/home/djaballah/PythonEnv/PFE/lib/python3.5/site-packages/matplotlib/cbook/deprecation.py:107: MatplotlibDeprecationWarning: Adding an axes using the same arguments as a previous axes currently reuses the earlier instance.  In a future version, a new instance will always be created and returned.  Meanwhile, this warning can be suppressed, and the future behavior ensured, by passing a unique label to each axes instance.\n",
      "  warnings.warn(message, mplDeprecation, stacklevel=1)\n"
     ]
    },
    {
     "data": {
      "image/png": "[encoded data removed]",
      "text/plain": [
       "<Figure size 1008x576 with 1 Axes>"
      ]
     },
     "metadata": {},
     "output_type": "display_data"
    }
   ],
   "source": [
    "from sklearn.metrics import precision_recall_curve\n",
    "\n",
    "precision, recall, thresholds = precision_recall_curve(y_test, y_scores_lr)\n",
    "closest_zero = np.argmin(np.abs(thresholds))\n",
    "closest_zero_p = precision[closest_zero]\n",
    "closest_zero_r = recall[closest_zero]\n",
    "\n",
    "plt.figure(figsize=(14, 8))\n",
    "plt.xlim([0.0, 1.01])\n",
    "plt.ylim([0.0, 1.01])\n",
    "plt.plot(precision, recall, label='Precision-recall-curve')\n",
    "plt.plot(closest_zero_p, closest_zero_r, 'o', markersize=12, fillstyle='none', c='r', mew=3)\n",
    "plt.xlabel('Precision', fontsize=16)\n",
    "plt.ylabel('Recall', fontsize=16)\n",
    "plt.axes().set_aspect('equal')\n",
    "plt.show()\n"
   ]
  },
  {
   "cell_type": "code",
   "execution_count": null,
   "metadata": {},
   "outputs": [],
   "source": []
  }
 ],
 "metadata": {
  "kernelspec": {
   "display_name": "PFE_Jupyter_Py3",
   "language": "python",
   "name": "pfe_jupyter_py3"
  },
  "language_info": {
   "codemirror_mode": {
    "name": "ipython",
    "version": 3
   },
   "file_extension": ".py",
   "mimetype": "text/x-python",
   "name": "python",
   "nbconvert_exporter": "python",
   "pygments_lexer": "ipython3",
   "version": "3.5.2"
  }
 },
 "nbformat": 4,
 "nbformat_minor": 2
}
